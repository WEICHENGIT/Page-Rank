{
 "cells": [
  {
   "cell_type": "code",
   "execution_count": 3,
   "metadata": {
    "collapsed": false
   },
   "outputs": [
    {
     "name": "stdout",
     "output_type": "stream",
     "text": [
      "[1, 2, 3, 4]\n",
      "[1, 4, 9, 16]\n"
     ]
    }
   ],
   "source": [
    "#ex1.1\n",
    "L=[1,2,3,4]\n",
    "print(L)\n",
    "\n",
    "l=len(L)\n",
    "M=[1]*l\n",
    "\n",
    "for i in range (0,l):\n",
    "    M[i]=L[i]**2\n",
    "\n",
    "print (M)"
   ]
  },
  {
   "cell_type": "code",
   "execution_count": 13,
   "metadata": {
    "collapsed": true
   },
   "outputs": [
    {
     "ename": "NameError",
     "evalue": "name 'raw_input' is not defined",
     "output_type": "error",
     "traceback": [
      "\u001b[0;31m---------------------------------------------------------------------------\u001b[0m",
      "\u001b[0;31mNameError\u001b[0m                                 Traceback (most recent call last)",
      "\u001b[0;32m<ipython-input-13-59306321ceec>\u001b[0m in \u001b[0;36m<module>\u001b[0;34m()\u001b[0m\n\u001b[1;32m      9\u001b[0m \u001b[1;33m\u001b[0m\u001b[0m\n\u001b[1;32m     10\u001b[0m \u001b[0marray\u001b[0m\u001b[1;33m=\u001b[0m\u001b[1;33m[\u001b[0m\u001b[1;33m]\u001b[0m\u001b[1;33m\u001b[0m\u001b[0m\n\u001b[0;32m---> 11\u001b[0;31m \u001b[0marray\u001b[0m\u001b[1;33m=\u001b[0m\u001b[0marray\u001b[0m\u001b[1;33m+\u001b[0m \u001b[1;33m(\u001b[0m\u001b[0mraw_input\u001b[0m\u001b[1;33m(\u001b[0m\u001b[1;34m\"input an array\"\u001b[0m\u001b[1;33m)\u001b[0m\u001b[1;33m)\u001b[0m\u001b[1;33m\u001b[0m\u001b[0m\n\u001b[0m\u001b[1;32m     12\u001b[0m \u001b[0mprint\u001b[0m \u001b[1;33m(\u001b[0m\u001b[0marray\u001b[0m\u001b[1;33m)\u001b[0m\u001b[1;33m\u001b[0m\u001b[0m\n\u001b[1;32m     13\u001b[0m \u001b[0mprint\u001b[0m \u001b[1;33m(\u001b[0m\u001b[0meven\u001b[0m\u001b[1;33m(\u001b[0m\u001b[0marray\u001b[0m\u001b[1;33m)\u001b[0m\u001b[1;33m)\u001b[0m\u001b[1;33m\u001b[0m\u001b[0m\n",
      "\u001b[0;31mNameError\u001b[0m: name 'raw_input' is not defined"
     ]
    }
   ],
   "source": [
    "#ex1.2\n",
    "def even(array):\n",
    "    l=len(array)\n",
    "    M=[] \n",
    "    for i in range (0,l):\n",
    "        if array[i]%2==0:\n",
    "            M.append(array[i])\n",
    "    return M\n",
    "            \n",
    "array=[]            \n",
    "array=array+ (input(\"input an array\"))\n",
    "print (array)\n",
    "print (even(array))"
   ]
  },
  {
   "cell_type": "code",
   "execution_count": 12,
   "metadata": {
    "collapsed": false
   },
   "outputs": [
    {
     "name": "stdout",
     "output_type": "stream",
     "text": [
      "[[0, 1, 0, 0, 1, 0, 0, 0], [0, 0, 1, 0, 0, 0, 0, 0], [0, 0, 0, 1, 0, 0, 1, 0], [1, 0, 0, 0, 0, 0, 0, 0], [0, 0, 0, 0, 0, 1, 0, 0], [1, 0, 0, 0, 0, 0, 0, 0], [0, 0, 0, 0, 0, 0, 0, 1], [0, 0, 0, 0, 0, 0, 0, 0]]\n",
      "[[0, 1, 0, 0, 1, 0], [0, 0, 1, 0, 0, 0], [0, 0, 0, 1, 0, 0], [1, 0, 0, 0, 0, 0], [0, 0, 0, 0, 0, 1], [1, 0, 0, 0, 0, 0]]\n"
     ]
    }
   ],
   "source": [
    "#ex2.2\n",
    "G=[[0,1,0,0,1,0,0,0],\n",
    "   [0,0,1,0,0,0,0,0], \n",
    "   [0,0,0,1,0,0,1,0],\n",
    "   [1,0,0,0,0,0,0,0],\n",
    "   [0,0,0,0,0,1,0,0],\n",
    "   [1,0,0,0,0,0,0,0],\n",
    "   [0,0,0,0,0,0,0,1],\n",
    "   [0,0,0,0,0,0,0,0]]\n",
    "l=len(G)\n",
    "print (G)\n",
    "#print (len(G))\n",
    "\n",
    "def deadends(G):\n",
    "    while [0]*len(G) in G:\n",
    "        for Gi in G:\n",
    "            if Gi==[0]*len(G):\n",
    "                dead=G.index(Gi)\n",
    "#                print(dead)\n",
    "                del G[dead]\n",
    "                for i in range(0,len(G)):\n",
    "#                    print(i)\n",
    "                    del G[i][dead]\n",
    "#        print(G)\n",
    "\n",
    "    \n",
    "    return G\n",
    "\n",
    "print (deadends(G))"
   ]
  },
  {
   "cell_type": "code",
   "execution_count": 28,
   "metadata": {
    "collapsed": false
   },
   "outputs": [
    {
     "ename": "AttributeError",
     "evalue": "'dict' object has no attribute 'add'",
     "output_type": "error",
     "traceback": [
      "\u001b[0;31m---------------------------------------------------------------------------\u001b[0m",
      "\u001b[0;31mAttributeError\u001b[0m                            Traceback (most recent call last)",
      "\u001b[0;32m<ipython-input-28-5ab29f8aa984>\u001b[0m in \u001b[0;36m<module>\u001b[0;34m()\u001b[0m\n\u001b[1;32m      5\u001b[0m \u001b[1;32mfor\u001b[0m \u001b[0mGi\u001b[0m \u001b[1;32min\u001b[0m \u001b[0mG\u001b[0m\u001b[1;33m:\u001b[0m\u001b[1;33m\u001b[0m\u001b[0m\n\u001b[1;32m      6\u001b[0m     \u001b[0mleft\u001b[0m\u001b[1;33m=\u001b[0m\u001b[1;33m{\u001b[0m\u001b[1;33m}\u001b[0m\u001b[1;33m\u001b[0m\u001b[0m\n\u001b[0;32m----> 7\u001b[0;31m     \u001b[0mleft\u001b[0m\u001b[1;33m.\u001b[0m\u001b[0madd\u001b[0m\u001b[1;33m(\u001b[0m\u001b[0mGi\u001b[0m\u001b[1;33m[\u001b[0m\u001b[1;36m0\u001b[0m\u001b[1;33m]\u001b[0m\u001b[1;33m)\u001b[0m\u001b[1;33m\u001b[0m\u001b[0m\n\u001b[0m\u001b[1;32m      8\u001b[0m     \u001b[0mright\u001b[0m\u001b[1;33m=\u001b[0m\u001b[1;33m{\u001b[0m\u001b[1;33m}\u001b[0m\u001b[1;33m\u001b[0m\u001b[0m\n\u001b[1;32m      9\u001b[0m     \u001b[0mright\u001b[0m\u001b[1;33m=\u001b[0m\u001b[0mright\u001b[0m\u001b[1;33m+\u001b[0m\u001b[1;33m{\u001b[0m\u001b[0mGi\u001b[0m\u001b[1;33m[\u001b[0m\u001b[1;36m1\u001b[0m\u001b[1;33m]\u001b[0m\u001b[1;33m}\u001b[0m\u001b[1;33m\u001b[0m\u001b[0m\n",
      "\u001b[0;31mAttributeError\u001b[0m: 'dict' object has no attribute 'add'"
     ]
    }
   ],
   "source": [
    "G=[[1,2],[1,5],[2,3],[3,4],[4,1],[5,6],[6,1]]\n",
    "v=6\n",
    "#print(G)\n",
    "\n",
    "for Gi in G:\n",
    "    left={}\n",
    "    left.add(Gi[0])\n",
    "    right={}\n",
    "    right=right+{Gi[1]}\n",
    "    All={}\n",
    "    All=left+Gi[0]+{Gi[1]}\n",
    "\n",
    "while (All!=left):\n",
    "    for Gi in G:\n",
    "        if (Gi[1] in All)==True:\n",
    "            if (Gi[1] in left)==False:\n",
    "                G=G-Gi\n",
    "                All=All-{Gi[1]}\n",
    "                right=right-{Gi[1]}\n",
    "                \n",
    "print (G)\n",
    "            "
   ]
  },
  {
   "cell_type": "code",
   "execution_count": 23,
   "metadata": {
    "collapsed": false
   },
   "outputs": [
    {
     "ename": "SyntaxError",
     "evalue": "invalid character in identifier (<ipython-input-23-d4f501fb6281>, line 9)",
     "output_type": "error",
     "traceback": [
      "\u001b[0;36m  File \u001b[0;32m\"<ipython-input-23-d4f501fb6281>\"\u001b[0;36m, line \u001b[0;32m9\u001b[0m\n\u001b[0;31m    def matrix_multi(A,B):\u001b[0m\n\u001b[0m                   ^\u001b[0m\n\u001b[0;31mSyntaxError\u001b[0m\u001b[0;31m:\u001b[0m invalid character in identifier\n"
     ]
    }
   ],
   "source": [
    "#ex 2.3.2 \n",
    "#import random \n",
    "\n",
    "N=len(H) #八个网页  \n",
    "beta=0.85 #阻尼因子为0.85  \n",
    "delta=0.00001 #迭代控制变量  \n",
    "\n",
    "#两个矩阵相乘  \n",
    "def matrix_multi(A,B):  \n",
    "    result = [[0]*len(B[0]) for i in range(len(A))]  \n",
    "    for i in range(len(A)):  \n",
    "        for j in range(len(B[0])):  \n",
    "            for k in range(len(B)):  \n",
    "                result[i][j] += A[i][k]*B[k][j]   \n",
    "    return result  \n",
    "  \n",
    "#矩阵A的每个元素都乘以n  \n",
    "def matrix_multiN(n,A):  \n",
    "    result = [[1]*len(A[0]) for i in range(len(A))]  \n",
    "    for i in range(len(A)):  \n",
    "        for j in range(len(A[0])):  \n",
    "            result[i][j] = n*A[i][j]  \n",
    "    return result \n",
    "\n",
    "#两个矩阵相加  \n",
    "def matrix_add(A,B):  \n",
    "    if len(A[0])!=len(B[0]) and len(A)!=len(B):  \n",
    "        return  \n",
    "    result = [[0]*len(A[0]) for i in range(len(A))]   \n",
    "    for i in range(len(A)):  \n",
    "        for j in range(len(A[0])):  \n",
    "            result[i][j] = A[i][j]+B[i][j]  \n",
    "    return result  \n",
    "\n",
    "#remove dead ends\n",
    "def deadends(G):\n",
    "    while [0]*len(G) in G:\n",
    "        for Gi in G:\n",
    "            if Gi==[0]*len(G):\n",
    "                dead=G.index(Gi)\n",
    "#                print(dead)\n",
    "                del G[dead]\n",
    "                for i in range(0,len(G)):\n",
    "#                    print(i)\n",
    "                    del G[i][dead]\n",
    "#        print(G)\n",
    "\n",
    "    \n",
    "    return G\n",
    "\n",
    "#根据邻接矩阵求转移概率矩阵并转向  \n",
    "def tran_and_convert(A):  \n",
    "    result = [[0]*len(A[0]) for i in range(len(A))]  \n",
    "    result_convert = [[0]*len(A[0]) for i in range(len(A))]  \n",
    "    for i in range(len(A)):  \n",
    "        for j in range(len(A[0])):  \n",
    "            result[i][j] = A[i][j]*1.0/sum(A[i])  \n",
    "    for i in range(len(result)):  \n",
    "        for j in range(len(result[0])):  \n",
    "            result_convert[i][j]=result[j][i]  \n",
    "    return result_convert \n",
    "\n",
    "def pageRank(A):  \n",
    "    I = []  \n",
    "    for i in range(N):  \n",
    "        I.append(1)   \n",
    "    norm = 100  \n",
    "    New_P = []  \n",
    "    for i in range(N):  \n",
    "        New_P.append([random.random()])   \n",
    "    r = [ [(1-beta)*i*1/N] for i in I]  \n",
    "    while norm > delta:  \n",
    "        P = New_P  \n",
    "        New_P = matrix_add(r,matrix_multiN(beta,matrix_multi(A,P))) #P=(1-beta)*I/n+d*M'P PageRank算法的核心  \n",
    "        norm = 0  \n",
    "        #求解矩阵一阶范数  \n",
    "        for i in range(N):  \n",
    "            norm += abs(New_P[i][0]-P[i][0])  \n",
    "    print New_P    \n",
    "\n",
    "\n",
    "def main():  \n",
    "    G = [[0,1,1,0,0,1,0,0],\n",
    "    [0,0,0,1,1,0,0,0],\n",
    "    [0,0,0,1,0,1,0,0],\n",
    "    [0,0,0,0,0,1,0,0],\n",
    "    [1,0,0,1,0,0,1,1],\n",
    "    [0,0,0,1,0,0,0,0],\n",
    "    [0,0,1,0,0,0,0,0],\n",
    "    [0,0,0,1,0,0,1,0]]  \n",
    "    H=deadends(G)\n",
    "    M = tran_and_convert(H)  \n",
    "    pageRank(M)  \n",
    "    \n",
    "if __name__ == '__main__':  \n",
    "    main()  "
   ]
  }
 ],
 "metadata": {
  "kernelspec": {
   "display_name": "Python 3",
   "language": "python",
   "name": "python3"
  },
  "language_info": {
   "codemirror_mode": {
    "name": "ipython",
    "version": 3
   },
   "file_extension": ".py",
   "mimetype": "text/x-python",
   "name": "python",
   "nbconvert_exporter": "python",
   "pygments_lexer": "ipython3",
   "version": "3.5.2"
  }
 },
 "nbformat": 4,
 "nbformat_minor": 0
}
